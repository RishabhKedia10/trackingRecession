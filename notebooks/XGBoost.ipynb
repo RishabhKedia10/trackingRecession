{
  "nbformat": 4,
  "nbformat_minor": 0,
  "metadata": {
    "colab": {
      "provenance": [],
      "mount_file_id": "1KHYFm8g7essA-TU-hbPOs3sIa9Va7QN5",
      "authorship_tag": "ABX9TyPt6u8kx3PCSVgWZGbv1UfV",
      "include_colab_link": true
    },
    "kernelspec": {
      "name": "python3",
      "display_name": "Python 3"
    },
    "language_info": {
      "name": "python"
    }
  },
  "cells": [
    {
      "cell_type": "markdown",
      "metadata": {
        "id": "view-in-github",
        "colab_type": "text"
      },
      "source": [
        "<a href=\"https://colab.research.google.com/github/RishabhKedia10/trackingRecession/blob/main/notebooks/XGBoost.ipynb\" target=\"_parent\"><img src=\"https://colab.research.google.com/assets/colab-badge.svg\" alt=\"Open In Colab\"/></a>"
      ]
    },
    {
      "cell_type": "code",
      "execution_count": null,
      "metadata": {
        "colab": {
          "base_uri": "https://localhost:8080/"
        },
        "id": "v4i7VLpsViPi",
        "outputId": "ade0cb73-435c-4386-cd49-e40430cbfdc0"
      },
      "outputs": [
        {
          "output_type": "execute_result",
          "data": {
            "text/plain": [
              "(787, 23)"
            ]
          },
          "metadata": {},
          "execution_count": 1
        }
      ],
      "source": [
        "import pandas as pd\n",
        "\n",
        "df = pd.read_csv('drive/MyDrive/recession/recession_data.csv')\n",
        "df.shape"
      ]
    },
    {
      "cell_type": "code",
      "source": [
        "# Drop the 'Dates' column for the correlation calculation\n",
        "df_no_dates = df.drop(columns=['Dates'])\n",
        "\n",
        "# Compute the correlation matrix for the remaining columns\n",
        "corr_matrix = df_no_dates.corr()\n",
        "\n",
        "# Extract correlation values with 'Recession' and sort them\n",
        "corr_with_recession = corr_matrix['Recession'].sort_values(ascending=False)\n",
        "\n",
        "# Display the top 12 features (excluding 'Recession' itself)\n",
        "top_12_features = corr_with_recession[1:13].index\n",
        "print(\"Top 12 features correlated with Recession:\")\n",
        "top_12_features\n",
        "\n",
        "# Visualize the correlation with a heatmap\n",
        "# import seaborn as sns\n",
        "# import matplotlib.pyplot as plt\n",
        "\n",
        "# plt.figure(figsize=(10, 6))\n",
        "# sns.heatmap(df_no_dates[top_12_features].corr(), annot=True, cmap='coolwarm')\n",
        "# plt.title('Correlation Matrix of Top 12 Features')\n",
        "# plt.show()"
      ],
      "metadata": {
        "colab": {
          "base_uri": "https://localhost:8080/"
        },
        "id": "kj9HBQyXVkPe",
        "outputId": "c1d20a79-1605-4f4c-8651-3cf048e5ae22"
      },
      "execution_count": null,
      "outputs": [
        {
          "output_type": "stream",
          "name": "stdout",
          "text": [
            "Top 12 features correlated with Recession:\n"
          ]
        },
        {
          "output_type": "execute_result",
          "data": {
            "text/plain": [
              "Index(['S&P_500_3mo_vs_12mo', 'CPI_12mo_pct_chg', 'Unemployment_Rate_12mo_chg',\n",
              "       '3M_10Y_Treasury_Spread_12mo_chg', 'CPI_3mo_pct_chg_annualized',\n",
              "       '10Y_Treasury_Rate_12mo_chg', 'Unemployment_Rate',\n",
              "       'Real_Fed_Funds_Rate', 'CPI_3mo_vs_12mo',\n",
              "       'Real_Fed_Funds_Rate_12mo_chg', '3M_10Y_Treasury_Spread',\n",
              "       '3M_Treasury_Rate_12mo_chg'],\n",
              "      dtype='object')"
            ]
          },
          "metadata": {},
          "execution_count": 2
        }
      ]
    },
    {
      "cell_type": "code",
      "source": [
        "from sklearn.model_selection import train_test_split\n",
        "\n",
        "# Select the top 12 features\n",
        "X = df[top_12_features]\n",
        "y = df['Recession']\n",
        "\n",
        "# Split the data into 75% training and 25% testing\n",
        "X_train, X_test, y_train, y_test = train_test_split(X, y, test_size=0.25, random_state=42)\n",
        "\n",
        "print(f'Training set size: {X_train.shape[0]} rows')\n",
        "print(f'Test set size: {X_test.shape[0]} rows')"
      ],
      "metadata": {
        "colab": {
          "base_uri": "https://localhost:8080/"
        },
        "id": "wX8MZ75TVkL-",
        "outputId": "f09b2350-4e71-4e78-9c4d-bcee627d6ad9"
      },
      "execution_count": null,
      "outputs": [
        {
          "output_type": "stream",
          "name": "stdout",
          "text": [
            "Training set size: 590 rows\n",
            "Test set size: 197 rows\n"
          ]
        }
      ]
    },
    {
      "cell_type": "markdown",
      "source": [
        "## 1. XGBoost"
      ],
      "metadata": {
        "id": "qhYxs8suV-kr"
      }
    },
    {
      "cell_type": "code",
      "source": [
        "import xgboost as xgb\n",
        "\n",
        "# Initialize the XGBoost classifier\n",
        "xgb_model = xgb.XGBClassifier(\n",
        "    n_estimators=26,  # Number of boosting rounds\n",
        "    learning_rate=0.1, # Step size shrinkage used in updates to prevent overfitting\n",
        "    max_depth=6       # Maximum depth of a tree\n",
        ")\n",
        "\n",
        "# Train the model on the training data\n",
        "xgb_model.fit(X_train, y_train)\n",
        "\n",
        "# Make predictions on the test data\n",
        "y_pred_xgb = xgb_model.predict(X_test)"
      ],
      "metadata": {
        "id": "jNARthA4VkJo"
      },
      "execution_count": null,
      "outputs": []
    },
    {
      "cell_type": "code",
      "source": [
        "y_pred_xgb"
      ],
      "metadata": {
        "colab": {
          "base_uri": "https://localhost:8080/"
        },
        "id": "E-QCtVn_VkHF",
        "outputId": "c1423c89-f6f0-46a9-f88e-27f89ae45cf3"
      },
      "execution_count": null,
      "outputs": [
        {
          "output_type": "execute_result",
          "data": {
            "text/plain": [
              "array([0, 0, 0, 0, 1, 0, 0, 0, 0, 0, 0, 0, 0, 0, 0, 0, 0, 0, 0, 0, 0, 0,\n",
              "       0, 0, 0, 0, 0, 0, 0, 1, 0, 0, 0, 0, 0, 1, 0, 0, 0, 0, 1, 0, 0, 0,\n",
              "       0, 0, 0, 0, 0, 0, 0, 0, 0, 0, 0, 1, 0, 0, 0, 0, 0, 0, 0, 0, 0, 0,\n",
              "       0, 0, 0, 0, 0, 0, 0, 0, 0, 0, 1, 0, 1, 0, 0, 0, 0, 0, 0, 0, 0, 0,\n",
              "       0, 0, 0, 0, 0, 0, 0, 0, 0, 0, 0, 0, 0, 0, 1, 0, 0, 0, 0, 0, 0, 0,\n",
              "       0, 1, 0, 0, 0, 0, 0, 0, 0, 0, 0, 0, 0, 0, 0, 0, 0, 0, 0, 0, 0, 0,\n",
              "       0, 0, 0, 0, 0, 0, 0, 0, 0, 0, 0, 0, 0, 0, 0, 1, 1, 0, 1, 0, 0, 0,\n",
              "       1, 0, 0, 0, 0, 0, 0, 1, 0, 0, 0, 0, 0, 1, 0, 0, 0, 0, 0, 1, 0, 0,\n",
              "       0, 0, 0, 0, 0, 0, 0, 0, 0, 0, 0, 0, 0, 0, 0, 0, 0, 0, 0, 0, 0])"
            ]
          },
          "metadata": {},
          "execution_count": 58
        }
      ]
    },
    {
      "cell_type": "code",
      "source": [
        "from sklearn.metrics import accuracy_score\n",
        "\n",
        "# Evaluate the model\n",
        "accuracy_xgb = accuracy_score(y_test, y_pred_xgb)\n",
        "# print(f'Accuracy with XGBoost: {accuracy_xgb:.2f}')\n",
        "accuracy_xgb"
      ],
      "metadata": {
        "colab": {
          "base_uri": "https://localhost:8080/"
        },
        "id": "zx8QX_kZVkE9",
        "outputId": "130fcca7-b7fd-41e4-911a-4d62ba9fffb3"
      },
      "execution_count": null,
      "outputs": [
        {
          "output_type": "execute_result",
          "data": {
            "text/plain": [
              "0.9695431472081218"
            ]
          },
          "metadata": {},
          "execution_count": 59
        }
      ]
    }
  ]
}