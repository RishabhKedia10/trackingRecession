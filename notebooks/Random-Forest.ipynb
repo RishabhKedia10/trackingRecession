{
  "nbformat": 4,
  "nbformat_minor": 0,
  "metadata": {
    "colab": {
      "provenance": [],
      "mount_file_id": "1vXr5pB6hftXAtbpxw3ANmfxd0RGxfDx2",
      "authorship_tag": "ABX9TyPvdwwIo4IVvchcPd8wgn8G",
      "include_colab_link": true
    },
    "kernelspec": {
      "name": "python3",
      "display_name": "Python 3"
    },
    "language_info": {
      "name": "python"
    }
  },
  "cells": [
    {
      "cell_type": "markdown",
      "metadata": {
        "id": "view-in-github",
        "colab_type": "text"
      },
      "source": [
        "<a href=\"https://colab.research.google.com/github/RishabhKedia10/trackingRecession/blob/main/notebooks/Random-Forest.ipynb\" target=\"_parent\"><img src=\"https://colab.research.google.com/assets/colab-badge.svg\" alt=\"Open In Colab\"/></a>"
      ]
    },
    {
      "cell_type": "code",
      "source": [
        "import pandas as pd\n",
        "\n",
        "df = pd.read_csv('drive/MyDrive/recession/recession_data.csv')\n",
        "df.shape"
      ],
      "metadata": {
        "colab": {
          "base_uri": "https://localhost:8080/"
        },
        "id": "X2z4F8WxS6S6",
        "outputId": "0e148c57-a750-45ec-d841-03146d944521"
      },
      "execution_count": null,
      "outputs": [
        {
          "output_type": "execute_result",
          "data": {
            "text/plain": [
              "(787, 23)"
            ]
          },
          "metadata": {},
          "execution_count": 1
        }
      ]
    },
    {
      "cell_type": "code",
      "source": [
        "# Drop the 'Dates' column for the correlation calculation\n",
        "df_no_dates = df.drop(columns=['Dates'])\n",
        "\n",
        "# Compute the correlation matrix for the remaining columns\n",
        "corr_matrix = df_no_dates.corr()\n",
        "\n",
        "# Extract correlation values with 'Recession' and sort them\n",
        "corr_with_recession = corr_matrix['Recession'].sort_values(ascending=False)\n",
        "\n",
        "# Display the top 12 features (excluding 'Recession' itself)\n",
        "top_12_features = corr_with_recession[1:13].index\n",
        "print(\"Top 12 features correlated with Recession:\")\n",
        "top_12_features\n",
        "\n",
        "# Visualize the correlation with a heatmap\n",
        "# import seaborn as sns\n",
        "# import matplotlib.pyplot as plt\n",
        "\n",
        "# plt.figure(figsize=(10, 6))\n",
        "# sns.heatmap(df_no_dates[top_12_features].corr(), annot=True, cmap='coolwarm')\n",
        "# plt.title('Correlation Matrix of Top 12 Features')\n",
        "# plt.show()"
      ],
      "metadata": {
        "colab": {
          "base_uri": "https://localhost:8080/"
        },
        "id": "UNkWs-R1S6Qq",
        "outputId": "c3dd3cbe-f103-4f42-a10a-25c0d07da590"
      },
      "execution_count": null,
      "outputs": [
        {
          "output_type": "stream",
          "name": "stdout",
          "text": [
            "Top 12 features correlated with Recession:\n"
          ]
        },
        {
          "output_type": "execute_result",
          "data": {
            "text/plain": [
              "Index(['S&P_500_3mo_vs_12mo', 'CPI_12mo_pct_chg', 'Unemployment_Rate_12mo_chg',\n",
              "       '3M_10Y_Treasury_Spread_12mo_chg', 'CPI_3mo_pct_chg_annualized',\n",
              "       '10Y_Treasury_Rate_12mo_chg', 'Unemployment_Rate',\n",
              "       'Real_Fed_Funds_Rate', 'CPI_3mo_vs_12mo',\n",
              "       'Real_Fed_Funds_Rate_12mo_chg', '3M_10Y_Treasury_Spread',\n",
              "       '3M_Treasury_Rate_12mo_chg'],\n",
              "      dtype='object')"
            ]
          },
          "metadata": {},
          "execution_count": 2
        }
      ]
    },
    {
      "cell_type": "code",
      "source": [
        "from sklearn.model_selection import train_test_split\n",
        "\n",
        "# Select the top 12 features\n",
        "X = df[top_12_features]\n",
        "y = df['Recession']\n",
        "\n",
        "# Split the data into 75% training and 25% testing\n",
        "X_train, X_test, y_train, y_test = train_test_split(X, y, test_size=0.25, random_state=42)\n",
        "\n",
        "print(f'Training set size: {X_train.shape[0]} rows')\n",
        "print(f'Test set size: {X_test.shape[0]} rows')"
      ],
      "metadata": {
        "id": "Rpd66iKJS6OA",
        "colab": {
          "base_uri": "https://localhost:8080/"
        },
        "outputId": "fde61baf-4c7a-405a-aef9-ddce7a1ab937"
      },
      "execution_count": null,
      "outputs": [
        {
          "output_type": "stream",
          "name": "stdout",
          "text": [
            "Training set size: 590 rows\n",
            "Test set size: 197 rows\n"
          ]
        }
      ]
    },
    {
      "cell_type": "markdown",
      "source": [
        "## 1. Row Sampling"
      ],
      "metadata": {
        "id": "hUM8Ec-0drhK"
      }
    },
    {
      "cell_type": "code",
      "source": [
        "# Here we have not taken into consideration \"max_samples\", thus including all the rows everytime"
      ],
      "metadata": {
        "id": "XN2bIYScMxZT"
      },
      "execution_count": null,
      "outputs": []
    },
    {
      "cell_type": "code",
      "source": [
        "from sklearn.ensemble import RandomForestClassifier\n",
        "\n",
        "# Initialize the Random Forest with 3 decision trees\n",
        "rf_model = RandomForestClassifier(n_estimators=13, max_features=None, bootstrap=True, random_state=42)\n",
        "\n",
        "# Train the model on the training data\n",
        "rf_model.fit(X_train, y_train)\n",
        "\n",
        "# Make predictions on the test data\n",
        "y_pred = rf_model.predict(X_test)"
      ],
      "metadata": {
        "id": "juyfHSe1S6Ld"
      },
      "execution_count": null,
      "outputs": []
    },
    {
      "cell_type": "code",
      "source": [
        "y_pred"
      ],
      "metadata": {
        "id": "0YHcT153S6H9",
        "colab": {
          "base_uri": "https://localhost:8080/"
        },
        "outputId": "4bd15bac-6d35-4ea5-81d0-4c32a6521e9b"
      },
      "execution_count": null,
      "outputs": [
        {
          "output_type": "execute_result",
          "data": {
            "text/plain": [
              "array([0, 0, 0, 0, 1, 0, 0, 0, 0, 0, 0, 0, 0, 0, 0, 0, 0, 0, 0, 0, 0, 0,\n",
              "       0, 0, 0, 0, 0, 0, 0, 1, 0, 0, 0, 0, 0, 1, 0, 0, 0, 0, 1, 0, 0, 0,\n",
              "       0, 0, 0, 0, 0, 0, 0, 0, 0, 0, 0, 1, 0, 0, 0, 0, 0, 0, 0, 0, 0, 0,\n",
              "       0, 0, 0, 0, 0, 1, 0, 0, 0, 0, 1, 0, 1, 0, 0, 0, 0, 0, 0, 0, 0, 0,\n",
              "       1, 0, 0, 0, 0, 0, 0, 0, 0, 0, 0, 0, 0, 0, 1, 0, 0, 1, 0, 0, 0, 0,\n",
              "       0, 1, 0, 0, 0, 0, 0, 0, 0, 0, 0, 0, 0, 0, 0, 0, 0, 0, 0, 0, 0, 0,\n",
              "       0, 0, 0, 0, 0, 0, 0, 0, 0, 0, 0, 0, 0, 0, 0, 1, 1, 0, 1, 0, 0, 0,\n",
              "       1, 0, 0, 0, 0, 0, 0, 1, 0, 0, 0, 0, 0, 1, 0, 0, 0, 0, 0, 1, 0, 0,\n",
              "       0, 0, 0, 0, 0, 0, 0, 0, 0, 0, 0, 0, 0, 0, 0, 0, 0, 0, 0, 0, 0])"
            ]
          },
          "metadata": {},
          "execution_count": 5
        }
      ]
    },
    {
      "cell_type": "code",
      "source": [
        "from sklearn.metrics import accuracy_score\n",
        "accuracy = accuracy_score(y_test, y_pred)\n",
        "accuracy"
      ],
      "metadata": {
        "id": "i27zwQL1S6FH",
        "colab": {
          "base_uri": "https://localhost:8080/"
        },
        "outputId": "c94a5130-d7d4-463a-a44e-a98f05241880"
      },
      "execution_count": null,
      "outputs": [
        {
          "output_type": "execute_result",
          "data": {
            "text/plain": [
              "0.9644670050761421"
            ]
          },
          "metadata": {},
          "execution_count": 6
        }
      ]
    },
    {
      "cell_type": "markdown",
      "source": [
        "## 2. Feature Sampling"
      ],
      "metadata": {
        "id": "t3kw8FjQdvRB"
      }
    },
    {
      "cell_type": "code",
      "source": [
        "from sklearn.ensemble import RandomForestClassifier\n",
        "\n",
        "# Initialize Random Forest with feature sampling\n",
        "# 'max_features' controls the number of features considered for each split in a tree.\n",
        "rf_feature_sampling_model = RandomForestClassifier(\n",
        "    n_estimators=13,  # 15 decision trees\n",
        "    max_features=5,  # Feature sampling: 5 number of features\n",
        "    bootstrap=False,  # No row sampling, only column sampling\n",
        "    random_state=42\n",
        ")\n",
        "\n",
        "# Train the model with the training data\n",
        "rf_feature_sampling_model.fit(X_train, y_train)\n",
        "\n",
        "# Make predictions on the test data\n",
        "y_pred_feature_sampling = rf_feature_sampling_model.predict(X_test)"
      ],
      "metadata": {
        "id": "Wf5UbwABS6Cz"
      },
      "execution_count": null,
      "outputs": []
    },
    {
      "cell_type": "code",
      "source": [
        "y_pred_feature_sampling"
      ],
      "metadata": {
        "colab": {
          "base_uri": "https://localhost:8080/"
        },
        "id": "Zbpt1X-Vd-sW",
        "outputId": "6955c953-39a3-467c-fa76-fbc0bb4eb1ff"
      },
      "execution_count": null,
      "outputs": [
        {
          "output_type": "execute_result",
          "data": {
            "text/plain": [
              "array([0, 0, 0, 0, 1, 0, 0, 0, 0, 0, 0, 0, 0, 0, 0, 0, 0, 0, 0, 0, 0, 0,\n",
              "       0, 0, 0, 0, 0, 0, 0, 1, 0, 0, 0, 0, 0, 1, 0, 0, 0, 0, 1, 0, 0, 0,\n",
              "       0, 0, 0, 0, 0, 0, 0, 0, 0, 0, 0, 1, 0, 0, 0, 0, 0, 0, 0, 0, 0, 0,\n",
              "       0, 0, 0, 0, 0, 0, 0, 0, 0, 0, 1, 0, 1, 0, 0, 0, 0, 0, 0, 0, 1, 0,\n",
              "       0, 0, 0, 0, 0, 0, 0, 0, 0, 0, 0, 0, 0, 0, 0, 0, 0, 0, 0, 0, 0, 0,\n",
              "       0, 1, 0, 0, 0, 0, 0, 0, 0, 0, 0, 0, 0, 0, 0, 0, 0, 0, 0, 0, 0, 0,\n",
              "       0, 0, 0, 0, 0, 0, 0, 0, 0, 0, 0, 0, 0, 0, 0, 1, 1, 0, 0, 0, 0, 0,\n",
              "       1, 0, 0, 0, 0, 0, 0, 1, 0, 0, 0, 0, 0, 1, 0, 0, 0, 0, 0, 1, 0, 0,\n",
              "       0, 0, 0, 0, 0, 0, 0, 0, 0, 0, 0, 0, 0, 0, 0, 0, 0, 0, 0, 0, 0])"
            ]
          },
          "metadata": {},
          "execution_count": 8
        }
      ]
    },
    {
      "cell_type": "code",
      "source": [
        "from sklearn.metrics import accuracy_score\n",
        "accuracy_feature_sampling = accuracy_score(y_test, y_pred_feature_sampling)\n",
        "accuracy_feature_sampling\n",
        "\n",
        "# print(f'Accuracy with Feature Sampling: {accuracy_feature_sampling:.2f}')"
      ],
      "metadata": {
        "colab": {
          "base_uri": "https://localhost:8080/"
        },
        "id": "hVlnUIFKd5DL",
        "outputId": "f6a98288-a37f-4861-be31-63750a059999"
      },
      "execution_count": null,
      "outputs": [
        {
          "output_type": "execute_result",
          "data": {
            "text/plain": [
              "0.9746192893401016"
            ]
          },
          "metadata": {},
          "execution_count": 9
        }
      ]
    },
    {
      "cell_type": "markdown",
      "source": [
        "## 3. Combined Sampling"
      ],
      "metadata": {
        "id": "nrrA7h64gj-P"
      }
    },
    {
      "cell_type": "code",
      "source": [
        "from sklearn.ensemble import RandomForestClassifier\n",
        "\n",
        "# Initialize Random Forest with combined row and feature sampling\n",
        "rf_combined_sampling_model = RandomForestClassifier(\n",
        "    n_estimators=13,  # 13 decision trees\n",
        "    max_features=5,   # Feature sampling: 5 features for each tree\n",
        "    bootstrap=True,   # Row sampling (bootstrapping)\n",
        "    random_state=42\n",
        ")\n",
        "\n",
        "# Train the model with the training data\n",
        "rf_combined_sampling_model.fit(X_train, y_train)\n",
        "\n",
        "# Make predictions on the test data\n",
        "y_pred_combined_sampling = rf_combined_sampling_model.predict(X_test)"
      ],
      "metadata": {
        "id": "9AxHY4iqglQy"
      },
      "execution_count": null,
      "outputs": []
    },
    {
      "cell_type": "code",
      "source": [
        "y_pred_combined_sampling"
      ],
      "metadata": {
        "colab": {
          "base_uri": "https://localhost:8080/"
        },
        "id": "xBCxkdfXgq00",
        "outputId": "a6385f16-f851-47de-f05c-f6743fb30d53"
      },
      "execution_count": null,
      "outputs": [
        {
          "output_type": "execute_result",
          "data": {
            "text/plain": [
              "array([0, 0, 0, 0, 1, 0, 0, 0, 0, 0, 0, 0, 0, 0, 0, 0, 0, 0, 0, 0, 0, 0,\n",
              "       0, 0, 0, 0, 0, 0, 0, 1, 0, 0, 0, 0, 0, 1, 0, 0, 0, 0, 1, 0, 0, 0,\n",
              "       0, 0, 0, 0, 0, 0, 0, 0, 0, 0, 0, 1, 0, 0, 0, 0, 0, 0, 0, 0, 0, 0,\n",
              "       0, 0, 0, 0, 0, 1, 0, 0, 0, 0, 1, 0, 1, 0, 0, 0, 0, 0, 0, 0, 0, 0,\n",
              "       0, 0, 0, 0, 0, 0, 0, 0, 0, 0, 0, 0, 0, 0, 0, 0, 0, 0, 0, 0, 0, 0,\n",
              "       0, 1, 0, 0, 0, 0, 0, 1, 0, 0, 0, 0, 0, 0, 0, 0, 0, 0, 0, 0, 0, 0,\n",
              "       0, 0, 0, 0, 0, 0, 0, 0, 0, 0, 0, 0, 0, 0, 0, 1, 1, 0, 1, 0, 0, 0,\n",
              "       1, 0, 0, 0, 0, 0, 0, 1, 0, 0, 0, 0, 0, 1, 0, 0, 0, 0, 0, 1, 0, 0,\n",
              "       0, 0, 0, 0, 0, 0, 0, 0, 0, 0, 0, 0, 0, 0, 0, 0, 0, 0, 0, 0, 0])"
            ]
          },
          "metadata": {},
          "execution_count": 11
        }
      ]
    },
    {
      "cell_type": "code",
      "source": [
        "from sklearn.metrics import accuracy_score\n",
        "accuracy_combined_sampling = accuracy_score(y_test, y_pred_combined_sampling)\n",
        "accuracy_combined_sampling"
      ],
      "metadata": {
        "colab": {
          "base_uri": "https://localhost:8080/"
        },
        "id": "vDea_McTgqx-",
        "outputId": "b5ed7a20-d00b-4a0e-9505-be30fd694e02"
      },
      "execution_count": null,
      "outputs": [
        {
          "output_type": "execute_result",
          "data": {
            "text/plain": [
              "0.9746192893401016"
            ]
          },
          "metadata": {},
          "execution_count": 12
        }
      ]
    }
  ]
}