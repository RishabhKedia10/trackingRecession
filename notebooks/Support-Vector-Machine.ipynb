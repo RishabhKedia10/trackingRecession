{
  "cells": [
    {
      "cell_type": "markdown",
      "metadata": {
        "id": "view-in-github",
        "colab_type": "text"
      },
      "source": [
        "<a href=\"https://colab.research.google.com/github/RishabhKedia10/trackingRecession/blob/main/notebooks/Support-Vector-Machine.ipynb\" target=\"_parent\"><img src=\"https://colab.research.google.com/assets/colab-badge.svg\" alt=\"Open In Colab\"/></a>"
      ]
    },
    {
      "cell_type": "code",
      "execution_count": null,
      "metadata": {
        "colab": {
          "base_uri": "https://localhost:8080/"
        },
        "id": "oI_Y3lZaZWKG",
        "outputId": "0b7bacfa-99f4-435f-fc3b-8b535d21c3bc"
      },
      "outputs": [
        {
          "data": {
            "text/plain": [
              "(787, 23)"
            ]
          },
          "execution_count": 1,
          "metadata": {},
          "output_type": "execute_result"
        }
      ],
      "source": [
        "import pandas as pd\n",
        "\n",
        "df = pd.read_csv('drive/MyDrive/recession/recession_data.csv')\n",
        "df.shape"
      ]
    },
    {
      "cell_type": "code",
      "execution_count": null,
      "metadata": {
        "colab": {
          "base_uri": "https://localhost:8080/"
        },
        "id": "_txlNjBDZaWZ",
        "outputId": "c0ff970e-719e-433a-c111-bc0f1b553046"
      },
      "outputs": [
        {
          "name": "stdout",
          "output_type": "stream",
          "text": [
            "Top 12 features correlated with Recession:\n"
          ]
        },
        {
          "data": {
            "text/plain": [
              "Index(['S&P_500_3mo_vs_12mo', 'CPI_12mo_pct_chg', 'Unemployment_Rate_12mo_chg',\n",
              "       '3M_10Y_Treasury_Spread_12mo_chg', 'CPI_3mo_pct_chg_annualized',\n",
              "       '10Y_Treasury_Rate_12mo_chg', 'Unemployment_Rate',\n",
              "       'Real_Fed_Funds_Rate', 'CPI_3mo_vs_12mo',\n",
              "       'Real_Fed_Funds_Rate_12mo_chg', '3M_10Y_Treasury_Spread',\n",
              "       '3M_Treasury_Rate_12mo_chg'],\n",
              "      dtype='object')"
            ]
          },
          "execution_count": 2,
          "metadata": {},
          "output_type": "execute_result"
        }
      ],
      "source": [
        "# Drop the 'Dates' column for the correlation calculation\n",
        "df_no_dates = df.drop(columns=['Dates'])\n",
        "\n",
        "# Compute the correlation matrix for the remaining columns\n",
        "corr_matrix = df_no_dates.corr()\n",
        "\n",
        "# Extract correlation values with 'Recession' and sort them\n",
        "corr_with_recession = corr_matrix['Recession'].sort_values(ascending=False)\n",
        "\n",
        "# Display the top 12 features (excluding 'Recession' itself)\n",
        "top_12_features = corr_with_recession[1:13].index\n",
        "print(\"Top 12 features correlated with Recession:\")\n",
        "top_12_features\n",
        "\n",
        "# Visualize the correlation with a heatmap\n",
        "# import seaborn as sns\n",
        "# import matplotlib.pyplot as plt\n",
        "\n",
        "# plt.figure(figsize=(10, 6))\n",
        "# sns.heatmap(df_no_dates[top_12_features].corr(), annot=True, cmap='coolwarm')\n",
        "# plt.title('Correlation Matrix of Top 12 Features')\n",
        "# plt.show()"
      ]
    },
    {
      "cell_type": "code",
      "execution_count": null,
      "metadata": {
        "colab": {
          "base_uri": "https://localhost:8080/"
        },
        "id": "59Uy-sJ-ZaTR",
        "outputId": "8fa69706-3694-4ec4-a75f-c81ef766f727"
      },
      "outputs": [
        {
          "name": "stdout",
          "output_type": "stream",
          "text": [
            "Training set size: 590 rows\n",
            "Test set size: 197 rows\n"
          ]
        }
      ],
      "source": [
        "from sklearn.model_selection import train_test_split\n",
        "\n",
        "# Select the top 12 features\n",
        "X = df[top_12_features]\n",
        "y = df['Recession']\n",
        "\n",
        "# Split the data into 75% training and 25% testing\n",
        "X_train, X_test, y_train, y_test = train_test_split(X, y, test_size=0.25, random_state=42)\n",
        "\n",
        "print(f'Training set size: {X_train.shape[0]} rows')\n",
        "print(f'Test set size: {X_test.shape[0]} rows')"
      ]
    },
    {
      "cell_type": "markdown",
      "metadata": {
        "id": "pKWh74uqZgnX"
      },
      "source": [
        "## 1. SVM"
      ]
    },
    {
      "cell_type": "code",
      "source": [
        "from sklearn.svm import SVC"
      ],
      "metadata": {
        "id": "DB7IN7RPuoeX"
      },
      "execution_count": null,
      "outputs": []
    },
    {
      "cell_type": "code",
      "execution_count": null,
      "metadata": {
        "id": "3mYgrMpSZf7i"
      },
      "outputs": [],
      "source": [
        "# Initialize the SVM model with a linear kernel\n",
        "svm_model = SVC(kernel='linear', random_state=42)\n",
        "\n",
        "# Train the model on the training data\n",
        "svm_model.fit(X_train, y_train)\n",
        "\n",
        "# Make predictions on the test data\n",
        "y_pred_svm = svm_model.predict(X_test)"
      ]
    },
    {
      "cell_type": "code",
      "execution_count": null,
      "metadata": {
        "colab": {
          "base_uri": "https://localhost:8080/"
        },
        "id": "CMZNFnBAZaRM",
        "outputId": "48113a7d-7997-48d2-833b-3f3374914dd3"
      },
      "outputs": [
        {
          "data": {
            "text/plain": [
              "array([0, 0, 0, 0, 0, 0, 0, 0, 0, 0, 0, 0, 0, 0, 0, 0, 0, 0, 0, 0, 0, 0,\n",
              "       0, 0, 0, 0, 0, 0, 0, 1, 0, 0, 0, 0, 0, 0, 0, 0, 0, 0, 1, 0, 0, 0,\n",
              "       0, 0, 0, 0, 0, 0, 0, 0, 0, 0, 0, 1, 0, 0, 0, 0, 0, 0, 0, 0, 0, 0,\n",
              "       0, 0, 0, 0, 0, 1, 0, 0, 0, 0, 0, 0, 0, 0, 0, 0, 0, 0, 0, 0, 0, 0,\n",
              "       1, 0, 0, 0, 0, 0, 0, 0, 0, 0, 0, 0, 0, 0, 0, 0, 0, 0, 0, 0, 0, 0,\n",
              "       0, 1, 0, 0, 0, 0, 0, 1, 0, 0, 0, 0, 0, 0, 0, 0, 0, 0, 0, 0, 0, 0,\n",
              "       0, 0, 1, 0, 0, 0, 0, 0, 0, 0, 0, 0, 0, 0, 0, 0, 0, 0, 0, 0, 0, 0,\n",
              "       0, 0, 0, 0, 0, 0, 0, 1, 0, 0, 0, 0, 0, 0, 0, 0, 0, 0, 0, 1, 0, 0,\n",
              "       0, 0, 0, 0, 0, 0, 0, 0, 0, 0, 0, 0, 0, 0, 0, 0, 0, 0, 0, 0, 0])"
            ]
          },
          "execution_count": 5,
          "metadata": {},
          "output_type": "execute_result"
        }
      ],
      "source": [
        "y_pred_svm"
      ]
    },
    {
      "cell_type": "code",
      "execution_count": null,
      "metadata": {
        "colab": {
          "base_uri": "https://localhost:8080/"
        },
        "id": "td6k1zjpZaO1",
        "outputId": "fde256e1-436d-4d1f-9438-cdd51ccffa05"
      },
      "outputs": [
        {
          "data": {
            "text/plain": [
              "0.9187817258883249"
            ]
          },
          "execution_count": 7,
          "metadata": {},
          "output_type": "execute_result"
        }
      ],
      "source": [
        "from sklearn.metrics import accuracy_score\n",
        "\n",
        "# Evaluate the model\n",
        "accuracy_svm = accuracy_score(y_test, y_pred_svm)\n",
        "# print(f'Accuracy with SVM (Linear Kernel): {accuracy_svm:.2f}')\n",
        "accuracy_svm"
      ]
    },
    {
      "cell_type": "markdown",
      "source": [
        "## 2. SVM with GridSearch"
      ],
      "metadata": {
        "id": "GBMp6ewvuWDR"
      }
    },
    {
      "cell_type": "code",
      "execution_count": null,
      "metadata": {
        "colab": {
          "background_save": true,
          "base_uri": "https://localhost:8080/"
        },
        "id": "1u6HEtPCZaFt",
        "outputId": "9983a540-645f-4adf-9267-cc8635f677a1"
      },
      "outputs": [
        {
          "name": "stdout",
          "output_type": "stream",
          "text": [
            "Fitting 5 folds for each of 40 candidates, totalling 200 fits\n"
          ]
        }
      ],
      "source": [
        "from sklearn.svm import SVC\n",
        "from sklearn.model_selection import GridSearchCV\n",
        "\n",
        "# Define parameter grid\n",
        "param_grid = {\n",
        "    'C': [10, 50, 100, 150],\n",
        "    'gamma': ['scale', 0.3, 0.2, 0.1],\n",
        "    'kernel': ['rbf', 'linear']\n",
        "}\n",
        "\n",
        "# Initialize GridSearchCV\n",
        "grid_search_svm = GridSearchCV(SVC(random_state=42), param_grid, scoring='accuracy', cv=5, verbose=1, n_jobs=-1)\n",
        "\n",
        "# Fit the model\n",
        "grid_search_svm.fit(X_train, y_train)\n",
        "\n",
        "# Get the best parameters and accuracy\n",
        "best_params_svm = grid_search_svm.best_params_\n",
        "best_accuracy_svm = grid_search_svm.best_score_"
      ]
    },
    {
      "cell_type": "code",
      "execution_count": null,
      "metadata": {
        "colab": {
          "background_save": true,
          "base_uri": "https://localhost:8080/"
        },
        "id": "E_dmY7-BbD1Y",
        "outputId": "fa84068a-d865-4f7d-b10d-081e45ef8aed"
      },
      "outputs": [
        {
          "data": {
            "text/plain": [
              "{'C': 100, 'gamma': 'scale', 'kernel': 'rbf'}"
            ]
          },
          "execution_count": 21,
          "metadata": {},
          "output_type": "execute_result"
        }
      ],
      "source": [
        "best_params_svm"
      ]
    },
    {
      "cell_type": "code",
      "execution_count": null,
      "metadata": {
        "colab": {
          "background_save": true,
          "base_uri": "https://localhost:8080/"
        },
        "id": "-ffAkD3LbGuY",
        "outputId": "0cdb47aa-5897-4fa1-8a9b-34ef22b3b1f2"
      },
      "outputs": [
        {
          "data": {
            "text/plain": [
              "0.9423728813559322"
            ]
          },
          "execution_count": 22,
          "metadata": {},
          "output_type": "execute_result"
        }
      ],
      "source": [
        "best_accuracy_svm"
      ]
    }
  ],
  "metadata": {
    "colab": {
      "provenance": [],
      "mount_file_id": "1aIkxONPrpDf57MTslqe40uz_29TCBTS0",
      "authorship_tag": "ABX9TyO1MMW1cFvmmIcjaUEjQCjH",
      "include_colab_link": true
    },
    "kernelspec": {
      "display_name": "Python 3",
      "name": "python3"
    },
    "language_info": {
      "name": "python"
    }
  },
  "nbformat": 4,
  "nbformat_minor": 0
}